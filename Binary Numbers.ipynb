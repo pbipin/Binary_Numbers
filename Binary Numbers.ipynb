{
 "cells": [
  {
   "cell_type": "code",
   "execution_count": 1,
   "metadata": {},
   "outputs": [
    {
     "name": "stdout",
     "output_type": "stream",
     "text": [
      "524275\n",
      "15\n"
     ]
    }
   ],
   "source": [
    "def dec2bin(n):\n",
    "    global wholelist\n",
    "    counter = 1\n",
    "    counter1 = 1\n",
    "    while(n/2>=1):\n",
    "        wholelist.append(int(n%2))\n",
    "        n /= 2\n",
    "        \n",
    "    if(len(wholelist) > 1):\n",
    "        wholelist.reverse()\n",
    "    wholelist.insert(0, 1)\n",
    "    \n",
    "    for idx,ele in enumerate(wholelist):\n",
    "        if(ele==1):\n",
    "            if(idx<(len(wholelist)-1)): \n",
    "                if(wholelist[idx+1]==1):\n",
    "                    counter += 1\n",
    "                elif(wholelist[idx+1]==0):\n",
    "                    counter1 = counter\n",
    "                    pass\n",
    "                    \n",
    "        if((wholelist[idx-1]==0)&(ele==1)):\n",
    "            counter = 1\n",
    "            if(idx<(len(wholelist)-1)): \n",
    "                if(wholelist[idx+1]==1):\n",
    "                    counter += 1\n",
    "            \n",
    "    if(counter>counter1):\n",
    "        print(counter)\n",
    "    else:\n",
    "        print(counter1)\n",
    "\n",
    "if __name__ == '__main__':\n",
    "    wholelist = []\n",
    "    n = int(input())\n",
    "    dec2bin(n)"
   ]
  }
 ],
 "metadata": {
  "kernelspec": {
   "display_name": "Python 3",
   "language": "python",
   "name": "python3"
  },
  "language_info": {
   "codemirror_mode": {
    "name": "ipython",
    "version": 3
   },
   "file_extension": ".py",
   "mimetype": "text/x-python",
   "name": "python",
   "nbconvert_exporter": "python",
   "pygments_lexer": "ipython3",
   "version": "3.6.5"
  }
 },
 "nbformat": 4,
 "nbformat_minor": 2
}
